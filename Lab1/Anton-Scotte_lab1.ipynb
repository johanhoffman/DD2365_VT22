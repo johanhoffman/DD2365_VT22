{
  "cells": [
    {
      "cell_type": "markdown",
      "metadata": {
        "colab_type": "text",
        "id": "view-in-github"
      },
      "source": [
        "<a href=\"https://colab.research.google.com/github/johanhoffman/DD2365_VT22/blob/main/template-report-Stokes.ipynb\" target=\"_parent\"><img src=\"https://colab.research.google.com/assets/colab-badge.svg\" alt=\"Open In Colab\"/></a>"
      ]
    },
    {
      "cell_type": "markdown",
      "metadata": {
        "id": "cyCUwzF-wRoW"
      },
      "source": [
        "# **The Stokes equations**\n",
        "**Anton Scotte**"
      ]
    },
    {
      "cell_type": "markdown",
      "metadata": {
        "id": "9x_J5FVuPzbm"
      },
      "source": [
        "# **Abstract**"
      ]
    },
    {
      "cell_type": "markdown",
      "metadata": {
        "id": "6UFTSzW7P8kL"
      },
      "source": [
        "In this report, a solution method based on Finite Element discretizations of the weak form of the Stokes equations are implemented in the python package FEniCS. The Stokes equations are used to model viscous flow. Taylor-Hood elements as well as equal order elements for velocity and pressure are used for the simulation and adaptive mesh refinement has been implemented as well. The velocity and pressure solutions has been investigated with respect to stability and stability is verified for the Taylor-Hood elements where the Inf-Suf condition is valid. The Inf-sup condition is however, not fullfilled, with equal order elements as the results show. "
      ]
    },
    {
      "cell_type": "markdown",
      "metadata": {
        "id": "OkT8J7uOWpT3"
      },
      "source": [
        "# **About the code**\n",
        "This program code has been modified from a Template code: obtained at (https://github.com/johanhoffman/DD2365_VT21), for the Stokes equations written originally by Johan Hoffman. The changes that has been made from the original template consists of changes in the mesh setup, adaptive mesh refinement, boundary conditions and the implementation of the equal order elements for comparison to the Taylor hood elements. "
      ]
    },
    {
      "cell_type": "code",
      "execution_count": null,
      "metadata": {
        "colab": {
          "base_uri": "https://localhost:8080/",
          "height": 37
        },
        "id": "Pdll1Xc9WP0e",
        "outputId": "a291375b-21dd-4734-f8e8-e894739c1606"
      },
      "outputs": [],
      "source": [
        "\"\"\"This program is based on an example file for the course\"\"\"\n",
        "\"\"\"DD2365 Advanced Computation in Fluid Mechanics, \"\"\"\n",
        "\"\"\"KTH Royal Institute of Technology, Stockholm, Sweden.\"\"\"\n",
        "\n",
        "# Copyright (C) 2020 Johan Hoffman (jhoffman@kth.se)\n",
        "\n",
        "# This file is part of the course DD2365 Advanced Computation in Fluid Mechanics\n",
        "# KTH Royal Institute of Technology, Stockholm, Sweden\n",
        "#\n",
        "# This is free software: you can redistribute it and/or modify\n",
        "# it under the terms of the GNU Lesser General Public License as published by\n",
        "# the Free Software Foundation, either version 3 of the License, or\n",
        "# (at your option) any later version.\n",
        "\n",
        "# This template is maintained by Johan Hoffman\n",
        "# Please report problems to jhoffman@kth.se"
      ]
    },
    {
      "cell_type": "markdown",
      "metadata": {
        "id": "28xLGz8JX3Hh"
      },
      "source": [
        "# **Set up environment:** \n",
        "This code should be run in the Google Colab environment and is setup as follows:"
      ]
    },
    {
      "cell_type": "code",
      "execution_count": null,
      "metadata": {
        "id": "Xw7VlErAX7NS"
      },
      "outputs": [],
      "source": [
        "# Load neccessary modules.\n",
        "from google.colab import files\n",
        "\n",
        "import numpy as np\n",
        "import time\n",
        "\n",
        "# Install FEniCS (this may take a long time)\n",
        "try:\n",
        "    import dolfin\n",
        "except ImportError:\n",
        "    !wget \"https://fem-on-colab.github.io/releases/fenics-install.sh\" -O \"/tmp/fenics-install.sh\" && bash \"/tmp/fenics-install.sh\"\n",
        "    import dolfin\n",
        "    \n",
        "from dolfin import *; from mshr import *\n",
        "\n",
        "import dolfin.common.plotting as fenicsplot\n",
        "\n",
        "from matplotlib import pyplot as plt"
      ]
    },
    {
      "cell_type": "markdown",
      "metadata": {
        "id": "gnO3lhAigLev"
      },
      "source": [
        "# **Introduction**"
      ]
    },
    {
      "cell_type": "markdown",
      "metadata": {
        "id": "l5zMzgPlRAF6"
      },
      "source": [
        "The Stokes equations take the form\n",
        "\n",
        "$\\nabla p -\\Delta u = f,\\quad \\nabla \\cdot u=0$\n",
        "\n",
        "together with suitable boundary conditions.\n",
        "\n",
        "Here we present a FEniCS implementation of a mixed finite element method to solve the Stokes equations in 2D. The solution is visualized using FEniCS plotting functions, and is also exported as pvd-files which can be visualized in Paraview.\n",
        "\n",
        "To derive the weak form of the equations, multiply the momentum equation by $v\\in V$ and the continuity equation by $q\\in Q$, and then integrate over the domain $\\Omega$ and use Green's formula\n",
        "$\n",
        "(\\nabla p -\\Delta u,v) = -(p,\\nabla \\cdot v) + (\\nabla u, \\nabla v) \n",
        "+ <pn - \\nabla u\\cdot n, v>_{\\Gamma}\n",
        "$\n",
        "\n",
        "We seek a finite element approximation $(u,p)\\in V\\times Q$ such that \n",
        "\n",
        "$- (p,\\nabla \\cdot v) + (\\nabla u,\\nabla v) + (\\nabla \\cdot u, q) \n",
        "+ <pn - \\nabla u\\cdot n, v>_{\\partial \\Omega} = (f,v)$\n",
        "\n",
        "for all test functions $(v,q) \\in V\\times Q$. \n",
        "\n",
        "$\n",
        "(v,w) = \\int_{\\Omega} v\\cdot w ~dx, \\quad \n",
        "<v,w>_{\\partial \\Omega} = \\int_{\\partial \\Omega} v\\cdot w~ds\n",
        "$\n",
        "\n",
        "We divide the boundary into $\\partial \\Omega=\\Gamma_D \\cup \\Gamma_N$, with the different boundary conditions\n",
        "\n",
        "$\n",
        "u = g_D,\\quad x\\in \\Gamma_D,\n",
        "$\n",
        "\n",
        "$\n",
        "-\\nu \\nabla u\\cdot n + pn = g_N, \\quad x\\in \\Gamma_N,\n",
        "$\n",
        "\n",
        "For $x\\in \\Gamma_D$ the test function $v=0$. Hence, with $g_N=0$ the boundary term is zero. \n",
        "\n",
        "The equations can be expressed in residual form\n",
        "\n",
        "$r(u,p;v,q) = - (p,\\nabla \\cdot v) + (\\nabla u,\\nabla v) + (\\nabla \\cdot u, q) - (f,v)$\n",
        "\n",
        "We use inf-sup stable Taylor-Hood approximation spaces, \n",
        "and to implement the velocity boundary conditions we use a penalty formulation, with a penalty parameter $\\gamma = C/h$, with $C>0$ a constant and $h$ the local mesh size. At outflow we use a \"do nothing\" stress free boundary condition. \n"
      ]
    },
    {
      "cell_type": "markdown",
      "metadata": {
        "id": "jOQvukXZq5U5"
      },
      "source": [
        "# **Method**"
      ]
    },
    {
      "cell_type": "markdown",
      "metadata": {
        "id": "wu2fugJ32t8m"
      },
      "source": [
        "**Define domain:**\n",
        "The computational domain has been modified to be a rectangular channel with height: 2 units and length: 4 units with a circular hole with radius: 0.2 units at the center of the channel. The resolution is set to be a uniform mesh size of h=1/32. Here we have the option to locally refine the mesh, and this refinement is done on the mesh from the center of the circle with a radius of 1 around the hole. A non-refined mesh as well as the refined mesh are presented for comparison. The variable \"mesh\" is the non-refined mesh and the variable \"mesh2\" is refined one time. For further use in the code implementation \"mesh2\" will be used."
      ]
    },
    {
      "cell_type": "markdown",
      "metadata": {},
      "source": [
        "**Non-refined mesh**"
      ]
    },
    {
      "cell_type": "code",
      "execution_count": null,
      "metadata": {
        "colab": {
          "base_uri": "https://localhost:8080/",
          "height": 215
        },
        "id": "_KBWOVATuBQz",
        "outputId": "8a496416-52f1-4977-b8c5-ec90abf77e80"
      },
      "outputs": [],
      "source": [
        "# Define rectangular domain \n",
        "L = 4\n",
        "H = 2\n",
        "\n",
        "# Generate mesh\n",
        "resolution = 32\n",
        "mesh = generate_mesh(Rectangle(Point(0.0,0.0), Point(L,H)) - Circle(Point(0.5*L,0.5*H),0.2), resolution)\n",
        "\n",
        "plt.figure()\n",
        "plot(mesh)\n",
        "plt.show()"
      ]
    },
    {
      "cell_type": "markdown",
      "metadata": {},
      "source": [
        "**Refined mesh**"
      ]
    },
    {
      "cell_type": "code",
      "execution_count": null,
      "metadata": {},
      "outputs": [],
      "source": [
        "mesh2 = generate_mesh(Rectangle(Point(0.0,0.0), Point(L,H)) - Circle(Point(0.5*L,0.5*H),0.2), resolution)\n",
        "\n",
        "# Local mesh refinement (specified by a cell marker)\n",
        "no_levels = 1\n",
        "for i in range(0,no_levels):\n",
        "  cell_marker = MeshFunction(\"bool\", mesh2, mesh.topology().dim())\n",
        "  for cell in cells(mesh2):\n",
        "    cell_marker[cell] = False\n",
        "    p = cell.midpoint()\n",
        "    if p.distance(Point(0.5*L, 0.5*H)) < 1.0:\n",
        "        cell_marker[cell] = True\n",
        "  mesh2 = refine(mesh2, cell_marker)\n",
        "\n",
        "\n",
        "plt.figure()\n",
        "plot(mesh2)\n",
        "plt.show()"
      ]
    },
    {
      "cell_type": "markdown",
      "metadata": {
        "id": "-le1iA8u3fS-"
      },
      "source": [
        "**Finite element approximation spaces:** The finite element approximation spaces are created for velocity and pressure on the refined mesh, (in the code this mesh is named \"mesh2\"). These are created with Continuous Galerkin (\"CG\") elements. First this is tested for Taylor hood elements, created by a 2nd order element VE1 for velocity and a first order element QE1 for pressure. The first order elements results in function spaces that are approximated by piecewise linear polynomials and for the the 2nd order elements the corresponding function space is approximated by piecewise quadratic polynomials. \n",
        "\n",
        "The mixed finite element space is then WE1. Then equal order CG elements for pressure and velocity are also implemented both of order 1 for velocity and for pressure. This is in the code defined as VE2, QE2 and WE2. "
      ]
    },
    {
      "cell_type": "code",
      "execution_count": null,
      "metadata": {
        "colab": {
          "base_uri": "https://localhost:8080/"
        },
        "id": "uWeyBcYXuaPq",
        "outputId": "86584cd1-921f-4665-b440-a3c58525150c"
      },
      "outputs": [],
      "source": [
        "# Generate mixed finite element spaces (for velocity and pressure)\n",
        "#https://fenicsproject.org/olddocs/dolfin/1.3.0/python/demo/documented/stokes-taylor-hood/python/documentation.html\n",
        "#https://fenicsproject.org/olddocs/dolfin/1.3.0/python/programmers-reference/functions/functionspace/VectorFunctionSpace.html#dolfin.functions.functionspace.VectorFunctionSpace\n",
        "#https://fenicsproject.org/olddocs/dolfin/1.3.0/python/programmers-reference/cpp/function/FunctionSpace.html#dolfin.cpp.function.FunctionSpace\n",
        "#Equal order, eg. set both VE and QE to order 1 or both VE and QE to order 2\n",
        "#Instability occurs in pressure solution when order is equal but velocity looks fine\n",
        "#when order is higher for velocity instability in pressure does not occur\n",
        "#when order is higher for pressure than it is for velocity the Newton Solver does not converge\n",
        "\n",
        "# Generate mixed finite element spaces (for velocity and pressure)\n",
        "VE1 = VectorElement(\"CG\", mesh2.ufl_cell(), 2)\n",
        "QE1 = FiniteElement(\"CG\", mesh2.ufl_cell(), 1)\n",
        "WE1 = VE1 * QE1\n",
        "\n",
        "W1 = FunctionSpace(mesh2, WE1)\n",
        "V1 = FunctionSpace(mesh2, VE1)\n",
        "Q1 = FunctionSpace(mesh2, QE1)\n",
        "\n",
        "# Define trial and test functions\n",
        "w1 = Function(W1)\n",
        "(u1, p1) = (as_vector((w1[0],w1[1])), w1[2])\n",
        "(v1, q1) = TestFunctions(W1) \n",
        "\n",
        "VE2 = VectorElement(\"CG\", mesh2.ufl_cell(), 1)\n",
        "QE2 = FiniteElement(\"CG\", mesh2.ufl_cell(), 1)\n",
        "WE2 = VE2 * QE2\n",
        "\n",
        "W2 = FunctionSpace(mesh2, WE2)\n",
        "V2 = FunctionSpace(mesh2, VE2)\n",
        "Q2 = FunctionSpace(mesh2, QE2)\n",
        "\n",
        "# Define trial and test functions\n",
        "w2 = Function(W2)\n",
        "(u2, p2) = (as_vector((w2[0],w2[1])), w2[2])\n",
        "(v2, q2) = TestFunctions(W2) "
      ]
    },
    {
      "cell_type": "markdown",
      "metadata": {
        "id": "OKzE7v-B3o9R"
      },
      "source": [
        "**Define boundary conditions:** At the walls (top and bottom), the boundary conditions are set to have no-slip BC, that is, Dirichlet BC for the velocity is set to zero. The inflow profile is a parabolic profile with a maximum velocity at $y=H/2$ where $H$ is the height of the channel. In the programme code the BC are specified twice to generate results for both the Taylor-Hood elements as well as for the equal order elements. "
      ]
    },
    {
      "cell_type": "code",
      "execution_count": null,
      "metadata": {
        "id": "WAsDDvdKujQT"
      },
      "outputs": [],
      "source": [
        "# Examples of inflow and outflow conditions\n",
        "XMIN = 0.0; XMAX = L\n",
        "YMIN = 0.0; YMAX = H\n",
        "uin1 = Expression((\"4*(x[1]*(YMAX-x[1]))/(YMAX*YMAX)\", \"0.\"), YMAX=YMAX, element = V1.ufl_element())\n",
        "#with equal order \n",
        "uin2 = Expression((\"4*(x[1]*(YMAX-x[1]))/(YMAX*YMAX)\", \"0.\"), YMAX=YMAX, element = V2.ufl_element()) \n",
        "\n",
        "#pout = 0.0\n",
        "\n",
        "# Inflow boundary (ib), outflow boundary (ob) and wall boundary (wb)\n",
        "ib1 = Expression(\"near(x[0],XMIN) ? 1. : 0.\", XMIN=XMIN, element = Q1.ufl_element())\n",
        "ob1 = Expression(\"near(x[0],XMAX) ? 1. : 0.\", XMAX=XMAX, element = Q1.ufl_element()) \n",
        "wb1 = Expression(\"x[0] > XMIN + DOLFIN_EPS && x[0] < XMAX - DOLFIN_EPS ? 1. : 0.\", XMIN=XMIN, XMAX=XMAX, element = Q1.ufl_element())\n",
        "\n",
        "# Inflow boundary (ib), outflow boundary (ob) and wall boundary (wb)\n",
        "ib2 = Expression(\"near(x[0],XMIN) ? 1. : 0.\", XMIN=XMIN, element = Q2.ufl_element())\n",
        "ob2 = Expression(\"near(x[0],XMAX) ? 1. : 0.\", XMAX=XMAX, element = Q2.ufl_element()) \n",
        "wb2 = Expression(\"x[0] > XMIN + DOLFIN_EPS && x[0] < XMAX - DOLFIN_EPS ? 1. : 0.\", XMIN=XMIN, XMAX=XMAX, element = Q2.ufl_element())"
      ]
    },
    {
      "cell_type": "markdown",
      "metadata": {
        "id": "SsQLT38gVbn_"
      },
      "source": [
        "# **Results**"
      ]
    },
    {
      "cell_type": "markdown",
      "metadata": {
        "id": "y0EnzPyU46PX"
      },
      "source": [
        "**Define and solve variational problem:** The variational problem is solved for the Taylor Hood elements and for the equal order elements by formulating the problem on weak residual form with the Galerkin's method where the system is solved for the residual to be zero."
      ]
    },
    {
      "cell_type": "code",
      "execution_count": null,
      "metadata": {
        "colab": {
          "base_uri": "https://localhost:8080/"
        },
        "id": "W-bCOI6LuxFi",
        "outputId": "d2115994-5e0a-4e75-d82b-d0d501d4cd11"
      },
      "outputs": [],
      "source": [
        "h = CellDiameter(mesh2)\n",
        "C = 1.0e3\n",
        "gamma = C/h\n",
        "\n",
        "f1 = Expression((\"0.0\",\"0.0\"), element = V1.ufl_element())\n",
        "#with equal order\n",
        "f2 = Expression((\"0.0\",\"0.0\"), element = V2.ufl_element())\n",
        "\n",
        "# Define variational problem on residual form: r(u,p;v,q) = 0\n",
        "residual1 = ( - p1*div(v1)*dx + inner(grad(u1), grad(v1))*dx + div(u1)*q1*dx + \n",
        "            gamma*(ib1*inner(u1 - uin, v1) + wb1*inner(u1, v1))*ds - inner(f1, v1)*dx )\n",
        "\n",
        "# Solve algebraic system \n",
        "solve(residual1 == 0, w1) \n",
        "\n",
        "#with equal order\n",
        "# Define variational problem on residual form: r(u,p;v,q) = 0\n",
        "residual2 = ( - p2*div(v2)*dx + inner(grad(u2), grad(v2))*dx + div(u2)*q2*dx + \n",
        "            gamma*(ib2*inner(u2 - uin2, v2) + wb2*inner(u2, v2))*ds - inner(f2, v2)*dx )\n",
        "\n",
        "# Solve algebraic system \n",
        "solve(residual2 == 0, w2) "
      ]
    },
    {
      "cell_type": "markdown",
      "metadata": {
        "id": "nl9EBgZU6tMZ"
      },
      "source": [
        "**Visualize solution and export files**"
      ]
    },
    {
      "cell_type": "markdown",
      "metadata": {},
      "source": [
        "**Taylor-Hood Results**"
      ]
    },
    {
      "cell_type": "code",
      "execution_count": null,
      "metadata": {
        "colab": {
          "base_uri": "https://localhost:8080/",
          "height": 632
        },
        "id": "JUfvsjZPvBc0",
        "outputId": "8ab117cb-36ab-4df2-c353-3623f6dde068"
      },
      "outputs": [],
      "source": [
        "!rm results-NS/*\n",
        "\n",
        "# Open files to export solution to Paraview\n",
        "file_u = File(\"results-Stokes/u.pvd\")\n",
        "file_p = File(\"results-Etokes/p.pvd\")\n",
        "\n",
        "u1_1 = project(u1, V1)\n",
        "p1_1 = project(p1, Q1)\n",
        "\n",
        "# Save solution to file\n",
        "file_u << u1_1\n",
        "file_p << p1_1\n",
        "\n",
        "# Plot solution\n",
        "plt.figure()\n",
        "plot(u1_1, title=\"Velocity\")\n",
        "\n",
        "plt.figure()\n",
        "plot(p1_1, title=\"Pressure\")\n",
        "        \n",
        "plt.show()"
      ]
    },
    {
      "cell_type": "markdown",
      "metadata": {},
      "source": [
        "**Equal order Results**"
      ]
    },
    {
      "cell_type": "code",
      "execution_count": null,
      "metadata": {},
      "outputs": [],
      "source": [
        "#with equal order\n",
        "# Open files to export solution to Paraview\n",
        "file_u = File(\"results-Stokes/u.pvd\")\n",
        "file_p = File(\"results-Etokes/p.pvd\")\n",
        "\n",
        "u1_2 = project(u2, V2)\n",
        "p1_2 = project(p2, Q2)\n",
        "\n",
        "# Save solution to file\n",
        "file_u << u1_2\n",
        "file_p << p1_2\n",
        "\n",
        "# Plot solution\n",
        "plt.figure()\n",
        "plot(u1_2, title=\"Velocity\")\n",
        "\n",
        "plt.figure()\n",
        "plot(p1_2, title=\"Pressure\")\n",
        "        \n",
        "plt.show()\n",
        "\n",
        "# Export files\n",
        "#!tar -czvf results-Stokes.tar.gz results-NS\n",
        "#files.download('results-Stokes.tar.gz')"
      ]
    },
    {
      "cell_type": "markdown",
      "metadata": {
        "id": "_4GLBv0zWr7m"
      },
      "source": [
        "# **Discussion**"
      ]
    },
    {
      "cell_type": "markdown",
      "metadata": {
        "id": "6bcsDSoRXHZe"
      },
      "source": [
        "With the Taylor Hood elements the solution looks like expected for the velocity and for the pressure. With the equal order elements the solution looks as expected for the velocity but not for the pressure. This is due to the fact that the inf-sup condition is not fulfilled when the order is not sufficiently high for the velocity with respect to the order of the pressure. This gives rise to instabilities in the solution for the pressure which can clearly be seen as the pressure in this case has unphysical attributes. "
      ]
    }
  ],
  "metadata": {
    "colab": {
      "include_colab_link": true,
      "name": "template-report-Stokes.ipynb",
      "provenance": []
    },
    "kernelspec": {
      "display_name": "Python 3",
      "name": "python3"
    }
  },
  "nbformat": 4,
  "nbformat_minor": 0
}
